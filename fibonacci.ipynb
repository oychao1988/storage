{
 "cells": [
  {
   "cell_type": "markdown",
   "metadata": {},
   "source": [
    "# 斐波那契数列"
   ]
  },
  {
   "cell_type": "markdown",
   "metadata": {},
   "source": [
    "## 1、生成斐波那契数列的几种写法"
   ]
  },
  {
   "cell_type": "markdown",
   "metadata": {},
   "source": [
    "### 迭代版"
   ]
  },
  {
   "cell_type": "code",
   "execution_count": 1,
   "metadata": {},
   "outputs": [],
   "source": [
    "n = 10"
   ]
  },
  {
   "cell_type": "code",
   "execution_count": 2,
   "metadata": {},
   "outputs": [],
   "source": [
    "def fib_Iteration_1(n):\n",
    "    terms = [0,1]\n",
    "    i = 2\n",
    "    while i <= n:\n",
    "        terms.append(terms[i - 1] + terms[i -2])\n",
    "        i = i + 1\n",
    "    return terms[n]"
   ]
  },
  {
   "cell_type": "code",
   "execution_count": 3,
   "metadata": {},
   "outputs": [
    {
     "name": "stdout",
     "output_type": "stream",
     "text": [
      "0, 1, 1, 2, 3, 5, 8, 13, 21, 34, "
     ]
    }
   ],
   "source": [
    "for i in range(n):\n",
    "    print(fib_Iteration_1(i), end=', ')"
   ]
  },
  {
   "cell_type": "code",
   "execution_count": 4,
   "metadata": {},
   "outputs": [],
   "source": [
    "def fib_Iteration_2(n):\n",
    "    a1 = 0\n",
    "    a2 = 1\n",
    "    for i in range(n):\n",
    "            a1, a2 = a2, a1 + a2\n",
    "    return a1"
   ]
  },
  {
   "cell_type": "code",
   "execution_count": 5,
   "metadata": {},
   "outputs": [
    {
     "name": "stdout",
     "output_type": "stream",
     "text": [
      "0, 1, 1, 2, 3, 5, 8, 13, 21, 34, "
     ]
    }
   ],
   "source": [
    "for i in range(n):\n",
    "    print(fib_Iteration_2(i), end=', ')"
   ]
  },
  {
   "cell_type": "markdown",
   "metadata": {},
   "source": [
    "### 递归版"
   ]
  },
  {
   "cell_type": "code",
   "execution_count": 8,
   "metadata": {},
   "outputs": [],
   "source": [
    "# 预先定义计数器\n",
    "counter = {\n",
    "    'fib_Recursion':0,\n",
    "    'fib_Dynamic':0,\n",
    "}"
   ]
  },
  {
   "cell_type": "code",
   "execution_count": 9,
   "metadata": {},
   "outputs": [],
   "source": [
    "def fib_Recursion(n):\n",
    "    counter['fib_Recursion'] += 1\n",
    "    if n < 2:\n",
    "        return n\n",
    "    else :\n",
    "        return fib_Recursion(n - 1) + fib_Recursion(n - 2)"
   ]
  },
  {
   "cell_type": "code",
   "execution_count": 10,
   "metadata": {},
   "outputs": [
    {
     "name": "stdout",
     "output_type": "stream",
     "text": [
      "0, 1, 1, 2, 3, 5, 8, 13, 21, 34, "
     ]
    }
   ],
   "source": [
    "for i in range(n):\n",
    "    print(fib_Recursion(i), end=', ')"
   ]
  },
  {
   "cell_type": "markdown",
   "metadata": {},
   "source": [
    "### 迭代器版"
   ]
  },
  {
   "cell_type": "code",
   "execution_count": 11,
   "metadata": {},
   "outputs": [],
   "source": [
    "class Fib_Iterator():\n",
    "    def __init__(self, n):\n",
    "        self.index = 0\n",
    "        self.a1 = 0\n",
    "        self.a2 = 1\n",
    "        self.n = n\n",
    "\n",
    "    def __iter__(self):\n",
    "        return self\n",
    "\n",
    "    def __next__(self):\n",
    "        if self.index < self.n:\n",
    "            value = self.a1\n",
    "            self.index += 1\n",
    "            self.a1, self.a2 = self.a2, self.a1 + self.a2\n",
    "            return value\n",
    "        else:\n",
    "            raise StopIteration"
   ]
  },
  {
   "cell_type": "code",
   "execution_count": 12,
   "metadata": {},
   "outputs": [
    {
     "name": "stdout",
     "output_type": "stream",
     "text": [
      "0, 1, 1, 2, 3, 5, 8, 13, 21, 34, "
     ]
    }
   ],
   "source": [
    "fib_Iterator = Fib_Iterator(n)\n",
    "while True:\n",
    "    try:\n",
    "        print(next(iter(fib_Iterator)), end=', ')\n",
    "    except StopIteration:\n",
    "        break"
   ]
  },
  {
   "cell_type": "markdown",
   "metadata": {},
   "source": [
    "### 生成器版"
   ]
  },
  {
   "cell_type": "code",
   "execution_count": 13,
   "metadata": {},
   "outputs": [],
   "source": [
    "def Fib_Generator(m, n):\n",
    "    index = 0\n",
    "    a1 = 0\n",
    "    a2 = 1\n",
    "    while index < n:\n",
    "        while index+1 < m:\n",
    "            index += 1\n",
    "            a1, a2 = a2, a1 + a2\n",
    "        yield a1\n",
    "        index += 1\n",
    "        a1, a2 = a2, a1 + a2"
   ]
  },
  {
   "cell_type": "code",
   "execution_count": 14,
   "metadata": {},
   "outputs": [
    {
     "name": "stdout",
     "output_type": "stream",
     "text": [
      "0, 1, 1, 2, 3, 5, 8, 13, 21, 34, "
     ]
    }
   ],
   "source": [
    "fib_Generator = Fib_Generator(0, n)\n",
    "for i in fib_Generator:\n",
    "    print(i, end=', ')"
   ]
  },
  {
   "cell_type": "markdown",
   "metadata": {},
   "source": [
    "### 动态规划版"
   ]
  },
  {
   "cell_type": "code",
   "execution_count": 21,
   "metadata": {},
   "outputs": [],
   "source": [
    "import sys\n",
    "sys.setrecursionlimit(100000)"
   ]
  },
  {
   "cell_type": "code",
   "execution_count": 22,
   "metadata": {},
   "outputs": [
    {
     "name": "stdout",
     "output_type": "stream",
     "text": [
      "最高递归层级： 100000\n"
     ]
    }
   ],
   "source": [
    "print('最高递归层级：', sys.getrecursionlimit())"
   ]
  },
  {
   "cell_type": "code",
   "execution_count": 23,
   "metadata": {},
   "outputs": [],
   "source": [
    "def fib_(n,memo):\n",
    "    counter['fib_Dynamic'] += 1\n",
    "    if n in memo:\n",
    "        return memo[n]\n",
    "    else :\n",
    "        memo[n] = fib_(n-1,memo) + fib_(n-2,memo)\n",
    "##        print(memo)\n",
    "        return memo[n]\n",
    "\n",
    "def fib_Dynamic(n):\n",
    "    memo = {0:0,1:1}\n",
    "    return fib_(n,memo)"
   ]
  },
  {
   "cell_type": "code",
   "execution_count": 24,
   "metadata": {},
   "outputs": [
    {
     "name": "stdout",
     "output_type": "stream",
     "text": [
      "0, 1, 1, 2, 3, 5, 8, 13, 21, 34, "
     ]
    }
   ],
   "source": [
    "for i in range(n):\n",
    "    print(fib_Dynamic(i), end=', ')"
   ]
  },
  {
   "cell_type": "markdown",
   "metadata": {},
   "source": [
    "### 线性规划版"
   ]
  },
  {
   "cell_type": "code",
   "execution_count": 25,
   "metadata": {},
   "outputs": [],
   "source": [
    "import copy"
   ]
  },
  {
   "cell_type": "code",
   "execution_count": 26,
   "metadata": {},
   "outputs": [],
   "source": [
    "def fib_linear(n):\n",
    "    prev = [0, 1]\n",
    "    _prev = [None, None]\n",
    "    if n < 2:\n",
    "        return prev[n]\n",
    "    for i in range(n-1):\n",
    "        _prev[0] = 0 * prev[0] + 1 * prev[1]\n",
    "        _prev[1] = 1 * prev[0] + 1 * prev[1]\n",
    "        prev = copy.deepcopy(_prev)\n",
    "    return prev[1]"
   ]
  },
  {
   "cell_type": "code",
   "execution_count": 27,
   "metadata": {},
   "outputs": [
    {
     "name": "stdout",
     "output_type": "stream",
     "text": [
      "0, 1, 1, 2, 3, 5, 8, 13, 21, 34, "
     ]
    }
   ],
   "source": [
    "for i in range(10):\n",
    "    print(fib_linear(i), end=', ')"
   ]
  },
  {
   "cell_type": "markdown",
   "metadata": {},
   "source": [
    "## 2、多维度性能对比"
   ]
  },
  {
   "cell_type": "markdown",
   "metadata": {},
   "source": [
    "### 耗时"
   ]
  },
  {
   "cell_type": "code",
   "execution_count": 28,
   "metadata": {},
   "outputs": [],
   "source": [
    "import time"
   ]
  },
  {
   "cell_type": "code",
   "execution_count": 57,
   "metadata": {},
   "outputs": [],
   "source": [
    "fibs = [\n",
    "    fib_Iteration_1,\n",
    "    fib_Iteration_2,\n",
    "#     fib_Recursion,\n",
    "#     fib_Dynamic,\n",
    "#     fib_linear,\n",
    "]"
   ]
  },
  {
   "cell_type": "code",
   "execution_count": 58,
   "metadata": {},
   "outputs": [],
   "source": [
    "n = 10"
   ]
  },
  {
   "cell_type": "code",
   "execution_count": 59,
   "metadata": {},
   "outputs": [
    {
     "name": "stdout",
     "output_type": "stream",
     "text": [
      "第10次\t：fib_Iteration_1\t耗时：0.0000061989\n",
      "第10次\t：fib_Iteration_2\t耗时：0.0000078678\n"
     ]
    }
   ],
   "source": [
    "for i in range(n):\n",
    "    for func in fibs:\n",
    "        start = time.time()\n",
    "        result = func(i)\n",
    "        stop = time.time()\n",
    "        cost = stop - start\n",
    "        \n",
    "        # 只输出最后的结果\n",
    "        if i+1 == n:\n",
    "            print('第%d次\\t：{:15}\\t耗时：%.10f'.format(func.__name__) % (i+1, cost))\n",
    "        \n",
    "        # 输出每次计算的结果\n",
    "#         print('第%d次\\t：{:15}\\t耗时：%.10f'.format(func.__name__) % (i+1, cost))\n",
    "#     print('\\n')\n"
   ]
  },
  {
   "cell_type": "markdown",
   "metadata": {},
   "source": [
    "### 调用次数"
   ]
  },
  {
   "cell_type": "code",
   "execution_count": 60,
   "metadata": {},
   "outputs": [],
   "source": [
    "fibs = [\n",
    "    fib_Recursion,\n",
    "    fib_Dynamic,\n",
    "]"
   ]
  },
  {
   "cell_type": "code",
   "execution_count": 65,
   "metadata": {},
   "outputs": [],
   "source": [
    "n = 30"
   ]
  },
  {
   "cell_type": "code",
   "execution_count": 66,
   "metadata": {
    "scrolled": true
   },
   "outputs": [
    {
     "name": "stdout",
     "output_type": "stream",
     "text": [
      "第30次：fib_Recursion\t：调用次数：1664079\n",
      "第30次：fib_Dynamic\t：调用次数：57\n"
     ]
    }
   ],
   "source": [
    "for i in range(n):\n",
    "    for fib in fibs:\n",
    "        counter[fib.__name__] = 0\n",
    "        result = fib(i)\n",
    "        \n",
    "        # 输出最后一次的结果\n",
    "        if i+1 == n:\n",
    "            print('第%d次：%s\\t：调用次数：%d' % (i+1, fib.__name__, counter[fib.__name__]))\n",
    "        \n",
    "        # 输出每次的结果\n",
    "#         print('第%d次：%s\\t：调用次数：%d' % (i+1, fib.__name__, counter[fib.__name__]))\n",
    "#     print('\\n')"
   ]
  },
  {
   "cell_type": "markdown",
   "metadata": {},
   "source": [
    "## 3、画一画斐波那契图"
   ]
  },
  {
   "cell_type": "code",
   "execution_count": 74,
   "metadata": {},
   "outputs": [],
   "source": [
    "import turtle"
   ]
  },
  {
   "cell_type": "code",
   "execution_count": 76,
   "metadata": {},
   "outputs": [],
   "source": [
    "# 初始化画布\n",
    "turtle.setup(width=0.5,height=0.75)\n",
    "# 绘制速度\n",
    "turtle.speed(2)\n",
    "# 画笔颜色\n",
    "turtle.pencolor('red')\n",
    "# 画笔大小\n",
    "turtle.pensize(2)\n",
    "\n",
    "# [基本图案个数，最大半径，比例，绘制原点坐标]\n",
    "scheme = [(1, 14, 1, (0, 0)),\n",
    "          (2, 10, 3, (50, 0)),\n",
    "          (3, 16, 0.2, (0, 200)),\n",
    "          (4, 15, 0.5, (50, -150)),\n",
    "          (4, 17, 0.1, (0, 0)),\n",
    "         ]\n",
    "# 选择要绘制的图案序号\n",
    "s = 4\n",
    "# 位置跳转\n",
    "turtle.home()\n",
    "turtle.goto(*scheme[s][3])\n",
    "\n",
    "# 缩放比例\n",
    "scale = scheme[s][2]\n",
    "# 清屏\n",
    "turtle.clear()\n",
    "-\n",
    "for i in range(scheme[s][0]):\n",
    "    lst = Fib_Iterator(scheme[s][1])\n",
    "    for num in lst:\n",
    "        turtle.circle(num*scale, 90)"
   ]
  },
  {
   "cell_type": "code",
   "execution_count": null,
   "metadata": {},
   "outputs": [],
   "source": []
  },
  {
   "cell_type": "code",
   "execution_count": null,
   "metadata": {},
   "outputs": [],
   "source": []
  }
 ],
 "metadata": {
  "kernelspec": {
   "display_name": "Python 3",
   "language": "python",
   "name": "python3"
  },
  "language_info": {
   "codemirror_mode": {
    "name": "ipython",
    "version": 3
   },
   "file_extension": ".py",
   "mimetype": "text/x-python",
   "name": "python",
   "nbconvert_exporter": "python",
   "pygments_lexer": "ipython3",
   "version": "3.5.2"
  }
 },
 "nbformat": 4,
 "nbformat_minor": 2
}
